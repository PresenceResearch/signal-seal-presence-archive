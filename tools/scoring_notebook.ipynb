# /tools/scoring_notebook.ipynb

import os
import json
import pandas as pd
import matplotlib.pyplot as plt
import seaborn as sns
from datetime import datetime

# --- CONFIG ---
RAW_DIR = "../data/raw"
PROCESSED_DIR = "../data/processed"
TEMPLATE_CSV = "../data/templates/scoring_template.csv"

# Ensure directories exist
os.makedirs(PROCESSED_DIR, exist_ok=True)

# --- Load JSON conversations ---
def load_conversations():
    files = [f for f in os.listdir(RAW_DIR) if f.endswith(".json")]
    data = []
    for f in files:
        path = os.path.join(RAW_DIR, f)
        with open(path, "r", encoding="utf-8") as infile:
            try:
                convo = json.load(infile)
                data.append({
                    "date": datetime.today().strftime("%Y-%m-%d"),
                    "file_name": f,
                    "content_preview": str(convo)[:120] + "..."
                })
            except:
                print(f"⚠️ Could not load {f}")
    return pd.DataFrame(data)

df = load_conversations()

# --- Manual scoring columns ---
df["E"] = None
df["C"] = None
df["R"] = None
df["P"] = None
df["tags"] = None
df["notes"] = None

# --- Scoring Function ---
def calculate_presence(row):
    try:
        return (float(row["E"]) * float(row["C"])) + float(row["R"])
    except:
        return None

# --- Interactive scoring loop ---
for idx, row in df.iterrows():
    print(f"\nFile: {row['file_name']}")
    print(f"Preview: {row['content_preview']}")
    try:
        e = float(input("E score: "))
        c = float(input("C score: "))
        r = float(input("R score: "))
    except:
        print("⚠️ Invalid input. Skipping.")
        continue

    df.at[idx, "E"] = e
    df.at[idx, "C"] = c
    df.at[idx, "R"] = r
    df.at[idx, "P"] = (e * c) + r
    df.at[idx, "tags"] = input("Tags (comma-separated): ")
    df.at[idx, "notes"] = input("Notes: ")

# --- Save to CSV & JSON ---
csv_path = os.path.join(PROCESSED_DIR, "scored_conversations.csv")
json_path = os.path.join(PROCESSED_DIR, "scored_conversations.json")

df.to_csv(csv_path, index=False)
df.to_json(json_path, orient="records", indent=2)

print(f"\n✅ Saved: {csv_path} and {json_path}")

# --- Visualization ---
df["date"] = pd.to_datetime(df["date"])
df_sorted = df.sort_values("date")

plt.figure(figsize=(10,5))
sns.lineplot(data=df_sorted, x="date", y="P", marker="o")
plt.title("Presence Score Over Time")
plt.xlabel("Date")
plt.ylabel("P Score")
plt.grid(True)
plt.show()

plt.figure(figsize=(8,6))
heatmap_data = df.pivot_table(values="P", index="tags", columns="date", aggfunc="mean")
sns.heatmap(heatmap_data, cmap="YlGnBu", annot=True, fmt=".1f")
plt.title("Presence Score Heatmap by Tags")
plt.show()
